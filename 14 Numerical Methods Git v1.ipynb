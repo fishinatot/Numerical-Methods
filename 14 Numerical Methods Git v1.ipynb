{
 "cells": [
  {
   "cell_type": "markdown",
   "id": "ed2b96fb",
   "metadata": {},
   "source": [
    "# Project Description\n",
    "\n",
    "Rusty Bargain used car sales service is developing an app to attract new customers. In that app, you can quickly find out the market value of your car. You have access to historical data: technical specifications, trim versions, and prices. You need to build the model to determine the value.\n",
    "Rusty Bargain is interested in:\n",
    "\n",
    "- the quality of the prediction\n",
    "- the speed of the prediction\n",
    "- the time required for training"
   ]
  },
  {
   "cell_type": "code",
   "execution_count": 1,
   "id": "9b4f2075",
   "metadata": {
    "ExecuteTime": {
     "end_time": "2022-09-16T15:45:28.992381Z",
     "start_time": "2022-09-16T15:45:13.490109Z"
    }
   },
   "outputs": [
    {
     "name": "stdout",
     "output_type": "stream",
     "text": [
      "Requirement already satisfied: xgboost in c:\\programdata\\anaconda3\\lib\\site-packages (1.6.2)Note: you may need to restart the kernel to use updated packages.\n"
     ]
    },
    {
     "name": "stderr",
     "output_type": "stream",
     "text": [
      "WARNING: Ignoring invalid distribution -cikit-learn (c:\\programdata\\anaconda3\\lib\\site-packages)\n",
      "WARNING: Ignoring invalid distribution -andas (c:\\programdata\\anaconda3\\lib\\site-packages)\n",
      "WARNING: Ignoring invalid distribution -cikit-learn (c:\\programdata\\anaconda3\\lib\\site-packages)\n",
      "WARNING: Ignoring invalid distribution -andas (c:\\programdata\\anaconda3\\lib\\site-packages)\n",
      "WARNING: Ignoring invalid distribution -cikit-learn (c:\\programdata\\anaconda3\\lib\\site-packages)\n",
      "WARNING: Ignoring invalid distribution -andas (c:\\programdata\\anaconda3\\lib\\site-packages)\n",
      "WARNING: Ignoring invalid distribution -cikit-learn (c:\\programdata\\anaconda3\\lib\\site-packages)\n",
      "WARNING: Ignoring invalid distribution -andas (c:\\programdata\\anaconda3\\lib\\site-packages)\n",
      "WARNING: Ignoring invalid distribution -cikit-learn (c:\\programdata\\anaconda3\\lib\\site-packages)\n",
      "WARNING: Ignoring invalid distribution -andas (c:\\programdata\\anaconda3\\lib\\site-packages)\n"
     ]
    },
    {
     "name": "stdout",
     "output_type": "stream",
     "text": [
      "\n",
      "Requirement already satisfied: scipy in c:\\programdata\\anaconda3\\lib\\site-packages (from xgboost) (1.7.3)\n",
      "Requirement already satisfied: numpy in c:\\programdata\\anaconda3\\lib\\site-packages (from xgboost) (1.20.3)\n"
     ]
    },
    {
     "name": "stderr",
     "output_type": "stream",
     "text": [
      "WARNING: Ignoring invalid distribution -cikit-learn (c:\\programdata\\anaconda3\\lib\\site-packages)\n",
      "WARNING: Ignoring invalid distribution -andas (c:\\programdata\\anaconda3\\lib\\site-packages)\n"
     ]
    }
   ],
   "source": [
    "pip install xgboost"
   ]
  },
  {
   "cell_type": "code",
   "execution_count": 2,
   "id": "3c48a257",
   "metadata": {
    "ExecuteTime": {
     "end_time": "2022-09-16T15:45:50.111854Z",
     "start_time": "2022-09-16T15:45:29.014322Z"
    }
   },
   "outputs": [
    {
     "name": "stdout",
     "output_type": "stream",
     "text": [
      "CPU times: total: 14.6 s\n",
      "Wall time: 21 s\n"
     ]
    }
   ],
   "source": [
    "%%time\n",
    "import pandas as pd\n",
    "import numpy as np\n",
    "import lightgbm as lgb\n",
    "from sklearn import metrics\n",
    "from sklearn.metrics import mean_squared_error\n",
    "from sklearn.model_selection import train_test_split\n",
    "from sklearn.ensemble import RandomForestRegressor\n",
    "from sklearn.utils import shuffle\n",
    "from sklearn.linear_model import LinearRegression\n",
    "from sklearn.tree import DecisionTreeClassifier\n",
    "import catboost as cb\n",
    "from catboost import CatBoostRegressor\n",
    "import xgboost\n",
    "from xgboost import XGBRegressor\n",
    "import seaborn as sns\n",
    "import plotly.express as px\n",
    "from pandas.plotting import scatter_matrix\n",
    "import matplotlib.pyplot as plt\n"
   ]
  },
  {
   "cell_type": "markdown",
   "id": "3953971d",
   "metadata": {},
   "source": [
    "# Download and look at the data."
   ]
  },
  {
   "cell_type": "code",
   "execution_count": 3,
   "id": "4ae90d81",
   "metadata": {
    "ExecuteTime": {
     "end_time": "2022-09-16T15:45:54.396306Z",
     "start_time": "2022-09-16T15:45:50.124819Z"
    }
   },
   "outputs": [
    {
     "name": "stdout",
     "output_type": "stream",
     "text": [
      "        DateCrawled  Price VehicleType  RegistrationYear Gearbox  Power  \\\n",
      "0  24/03/2016 11:52    480         NaN              1993  manual      0   \n",
      "1  24/03/2016 10:58  18300       coupe              2011  manual    190   \n",
      "2  14/03/2016 12:52   9800         suv              2004    auto    163   \n",
      "3  17/03/2016 16:54   1500       small              2001  manual     75   \n",
      "4  31/03/2016 17:25   3600       small              2008  manual     69   \n",
      "\n",
      "   Model  Mileage  RegistrationMonth  FuelType       Brand NotRepaired  \\\n",
      "0   golf   150000                  0    petrol  volkswagen         NaN   \n",
      "1    NaN   125000                  5  gasoline        audi         yes   \n",
      "2  grand   125000                  8  gasoline        jeep         NaN   \n",
      "3   golf   150000                  6    petrol  volkswagen          no   \n",
      "4  fabia    90000                  7  gasoline       skoda          no   \n",
      "\n",
      "        DateCreated  NumberOfPictures  PostalCode          LastSeen  \n",
      "0  24/03/2016 00:00                 0       70435  07/04/2016 03:16  \n",
      "1  24/03/2016 00:00                 0       66954  07/04/2016 01:46  \n",
      "2  14/03/2016 00:00                 0       90480  05/04/2016 12:47  \n",
      "3  17/03/2016 00:00                 0       91074  17/03/2016 17:40  \n",
      "4  31/03/2016 00:00                 0       60437  06/04/2016 10:17  \n",
      "CPU times: total: 3.53 s\n",
      "Wall time: 4.23 s\n"
     ]
    }
   ],
   "source": [
    "%%time\n",
    "try:\n",
    "    path='C:\\\\Users\\\\aviv\\\\Downloads\\\\car_data.csv'\n",
    "    data = pd.read_csv(path)\n",
    "    print(data.head())\n",
    "    \n",
    "except:\n",
    "    path = '/datasets/car_data.csv'\n",
    "    data = pd.read_csv(path)\n",
    "    print(data.head())"
   ]
  },
  {
   "cell_type": "code",
   "execution_count": 4,
   "id": "00edb8ee",
   "metadata": {
    "ExecuteTime": {
     "end_time": "2022-09-16T15:45:57.612796Z",
     "start_time": "2022-09-16T15:45:54.412222Z"
    }
   },
   "outputs": [
    {
     "name": "stdout",
     "output_type": "stream",
     "text": [
      "<class 'pandas.core.frame.DataFrame'>\n",
      "RangeIndex: 354369 entries, 0 to 354368\n",
      "Data columns (total 16 columns):\n",
      " #   Column             Non-Null Count   Dtype \n",
      "---  ------             --------------   ----- \n",
      " 0   DateCrawled        354369 non-null  object\n",
      " 1   Price              354369 non-null  int64 \n",
      " 2   VehicleType        316879 non-null  object\n",
      " 3   RegistrationYear   354369 non-null  int64 \n",
      " 4   Gearbox            334536 non-null  object\n",
      " 5   Power              354369 non-null  int64 \n",
      " 6   Model              334664 non-null  object\n",
      " 7   Mileage            354369 non-null  int64 \n",
      " 8   RegistrationMonth  354369 non-null  int64 \n",
      " 9   FuelType           321474 non-null  object\n",
      " 10  Brand              354369 non-null  object\n",
      " 11  NotRepaired        283215 non-null  object\n",
      " 12  DateCreated        354369 non-null  object\n",
      " 13  NumberOfPictures   354369 non-null  int64 \n",
      " 14  PostalCode         354369 non-null  int64 \n",
      " 15  LastSeen           354369 non-null  object\n",
      "dtypes: int64(7), object(9)\n",
      "memory usage: 43.3+ MB\n"
     ]
    }
   ],
   "source": [
    "data.info()\n",
    "\n"
   ]
  },
  {
   "cell_type": "markdown",
   "id": "05be425a",
   "metadata": {},
   "source": [
    "let's look at missing values:"
   ]
  },
  {
   "cell_type": "code",
   "execution_count": 5,
   "id": "26ffbdba",
   "metadata": {
    "ExecuteTime": {
     "end_time": "2022-09-16T15:46:00.599749Z",
     "start_time": "2022-09-16T15:45:57.635738Z"
    }
   },
   "outputs": [
    {
     "data": {
      "text/plain": [
       "DateCrawled              0\n",
       "Price                    0\n",
       "VehicleType          37490\n",
       "RegistrationYear         0\n",
       "Gearbox              19833\n",
       "Power                    0\n",
       "Model                19705\n",
       "Mileage                  0\n",
       "RegistrationMonth        0\n",
       "FuelType             32895\n",
       "Brand                    0\n",
       "NotRepaired          71154\n",
       "DateCreated              0\n",
       "NumberOfPictures         0\n",
       "PostalCode               0\n",
       "LastSeen                 0\n",
       "dtype: int64"
      ]
     },
     "execution_count": 5,
     "metadata": {},
     "output_type": "execute_result"
    }
   ],
   "source": [
    "data.isnull().sum()"
   ]
  },
  {
   "cell_type": "markdown",
   "id": "daef3eaf",
   "metadata": {},
   "source": [
    "all the missing values are categorical, inserting 'unknown' instead"
   ]
  },
  {
   "cell_type": "code",
   "execution_count": 6,
   "id": "d6cddb0f",
   "metadata": {
    "ExecuteTime": {
     "end_time": "2022-09-16T15:46:07.878005Z",
     "start_time": "2022-09-16T15:46:00.613673Z"
    }
   },
   "outputs": [
    {
     "data": {
      "text/plain": [
       "DateCrawled          0\n",
       "Price                0\n",
       "VehicleType          0\n",
       "RegistrationYear     0\n",
       "Gearbox              0\n",
       "Power                0\n",
       "Model                0\n",
       "Mileage              0\n",
       "RegistrationMonth    0\n",
       "FuelType             0\n",
       "Brand                0\n",
       "NotRepaired          0\n",
       "DateCreated          0\n",
       "NumberOfPictures     0\n",
       "PostalCode           0\n",
       "LastSeen             0\n",
       "dtype: int64"
      ]
     },
     "execution_count": 6,
     "metadata": {},
     "output_type": "execute_result"
    }
   ],
   "source": [
    "data.fillna(value = 'unknown',inplace=True)\n",
    "data.isnull().sum()"
   ]
  },
  {
   "cell_type": "markdown",
   "id": "d0fa0c65",
   "metadata": {},
   "source": [
    "i would change the columns that represent dates to date-type but that would take forever. instead i will drop these columns when splitting the dataset, leaving the registration month and year as they are, hoping that those columns will give the models enough to work with."
   ]
  },
  {
   "cell_type": "code",
   "execution_count": 7,
   "id": "0b768859",
   "metadata": {
    "ExecuteTime": {
     "end_time": "2022-09-16T15:46:27.826641Z",
     "start_time": "2022-09-16T15:46:07.898478Z"
    }
   },
   "outputs": [
    {
     "data": {
      "image/png": "[encoded data removed]",
      "text/plain": [
       "<Figure size 432x288 with 1 Axes>"
      ]
     },
     "metadata": {
      "needs_background": "light"
     },
     "output_type": "display_data"
    },
    {
     "data": {
      "image/png": "[encoded data removed]",
      "text/plain": [
       "<Figure size 432x288 with 1 Axes>"
      ]
     },
     "metadata": {
      "needs_background": "light"
     },
     "output_type": "display_data"
    },
    {
     "data": {
      "image/png": "[encoded data removed]",
      "text/plain": [
       "<Figure size 432x288 with 1 Axes>"
      ]
     },
     "metadata": {
      "needs_background": "light"
     },
     "output_type": "display_data"
    },
    {
     "data": {
      "image/png": "[encoded data removed]",
      "text/plain": [
       "<Figure size 432x288 with 1 Axes>"
      ]
     },
     "metadata": {
      "needs_background": "light"
     },
     "output_type": "display_data"
    },
    {
     "data": {
      "image/png": "[encoded data removed]",
      "text/plain": [
       "<Figure size 432x288 with 1 Axes>"
      ]
     },
     "metadata": {
      "needs_background": "light"
     },
     "output_type": "display_data"
    },
    {
     "data": {
      "image/png": "[encoded data removed]",
      "text/plain": [
       "<Figure size 432x288 with 1 Axes>"
      ]
     },
     "metadata": {
      "needs_background": "light"
     },
     "output_type": "display_data"
    },
    {
     "data": {
      "image/png": "[encoded data removed]",
      "text/plain": [
       "<Figure size 432x288 with 1 Axes>"
      ]
     },
     "metadata": {
      "needs_background": "light"
     },
     "output_type": "display_data"
    },
    {
     "data": {
      "image/png": "[encoded data removed]",
      "text/plain": [
       "<Figure size 432x288 with 1 Axes>"
      ]
     },
     "metadata": {
      "needs_background": "light"
     },
     "output_type": "display_data"
    },
    {
     "data": {
      "image/png": "[encoded data removed]",
      "text/plain": [
       "<Figure size 432x288 with 1 Axes>"
      ]
     },
     "metadata": {
      "needs_background": "light"
     },
     "output_type": "display_data"
    },
    {
     "data": {
      "image/png": "[encoded data removed]",
      "text/plain": [
       "<Figure size 432x288 with 1 Axes>"
      ]
     },
     "metadata": {
      "needs_background": "light"
     },
     "output_type": "display_data"
    },
    {
     "data": {
      "image/png": "[encoded data removed]",
      "text/plain": [
       "<Figure size 432x288 with 1 Axes>"
      ]
     },
     "metadata": {
      "needs_background": "light"
     },
     "output_type": "display_data"
    }
   ],
   "source": [
    "feats = ['Price', 'VehicleType',\n",
    " 'RegistrationYear', 'Gearbox', 'Power', 'Mileage', 'RegistrationMonth',\n",
    " 'FuelType', 'Brand', 'NotRepaired', 'NumberOfPictures']\n",
    "for feature in feats:\n",
    "    fig = data[feature].hist(bins=100)\n",
    "    fig.set_ylabel(f'amount of {feature}')\n",
    "    fig.set_xlabel(feature)\n",
    "    fig.set_title('distribution')\n",
    "    plt.show()\n"
   ]
  },
  {
   "cell_type": "markdown",
   "id": "6a882105",
   "metadata": {},
   "source": [
    "things to look into:\n",
    "- prices of zero value i'll drop the rows as they don't hold any predictive value V\n",
    "- vehicle types - merge 'other' and 'unknown' values V\n",
    "- registration year - zoom in to see actual distribution and problems\n",
    "- power - zoom in\n",
    "- registration month - zero values - i'm thinking setting them to the median instead of dropping the rows so as to not lose the predictive value V\n",
    "- fueltype - merge 'unknown' and 'other' values V\n",
    "- brand - zoom in\n",
    "- number of pictures - zero all over the board so the column should be dropped entirely (it won't even matter) V\n",
    "\n",
    "left:\n",
    "zoom ins -\n",
    "RegistrationYear, Power, Brand"
   ]
  },
  {
   "cell_type": "code",
   "execution_count": 8,
   "id": "5a78cdc0",
   "metadata": {
    "ExecuteTime": {
     "end_time": "2022-09-16T15:46:28.555756Z",
     "start_time": "2022-09-16T15:46:27.837612Z"
    }
   },
   "outputs": [
    {
     "data": {
      "text/html": [
       "<div>\n",
       "<style scoped>\n",
       "    .dataframe tbody tr th:only-of-type {\n",
       "        vertical-align: middle;\n",
       "    }\n",
       "\n",
       "    .dataframe tbody tr th {\n",
       "        vertical-align: top;\n",
       "    }\n",
       "\n",
       "    .dataframe thead th {\n",
       "        text-align: right;\n",
       "    }\n",
       "</style>\n",
       "<table border=\"1\" class=\"dataframe\">\n",
       "  <thead>\n",
       "    <tr style=\"text-align: right;\">\n",
       "      <th></th>\n",
       "      <th>DateCrawled</th>\n",
       "      <th>Price</th>\n",
       "      <th>VehicleType</th>\n",
       "      <th>RegistrationYear</th>\n",
       "      <th>Gearbox</th>\n",
       "      <th>Power</th>\n",
       "      <th>Model</th>\n",
       "      <th>Mileage</th>\n",
       "      <th>RegistrationMonth</th>\n",
       "      <th>FuelType</th>\n",
       "      <th>Brand</th>\n",
       "      <th>NotRepaired</th>\n",
       "      <th>DateCreated</th>\n",
       "      <th>NumberOfPictures</th>\n",
       "      <th>PostalCode</th>\n",
       "      <th>LastSeen</th>\n",
       "    </tr>\n",
       "  </thead>\n",
       "  <tbody>\n",
       "  </tbody>\n",
       "</table>\n",
       "</div>"
      ],
      "text/plain": [
       "Empty DataFrame\n",
       "Columns: [DateCrawled, Price, VehicleType, RegistrationYear, Gearbox, Power, Model, Mileage, RegistrationMonth, FuelType, Brand, NotRepaired, DateCreated, NumberOfPictures, PostalCode, LastSeen]\n",
       "Index: []"
      ]
     },
     "execution_count": 8,
     "metadata": {},
     "output_type": "execute_result"
    }
   ],
   "source": [
    "\n",
    "data.drop(data[data.Price == 0].index, inplace=True)\n",
    "data[data['Price']==0]"
   ]
  },
  {
   "cell_type": "code",
   "execution_count": 9,
   "id": "db7e5c5d",
   "metadata": {
    "ExecuteTime": {
     "end_time": "2022-09-16T15:46:29.314338Z",
     "start_time": "2022-09-16T15:46:28.573707Z"
    }
   },
   "outputs": [
    {
     "data": {
      "text/html": [
       "<div>\n",
       "<style scoped>\n",
       "    .dataframe tbody tr th:only-of-type {\n",
       "        vertical-align: middle;\n",
       "    }\n",
       "\n",
       "    .dataframe tbody tr th {\n",
       "        vertical-align: top;\n",
       "    }\n",
       "\n",
       "    .dataframe thead th {\n",
       "        text-align: right;\n",
       "    }\n",
       "</style>\n",
       "<table border=\"1\" class=\"dataframe\">\n",
       "  <thead>\n",
       "    <tr style=\"text-align: right;\">\n",
       "      <th></th>\n",
       "      <th>DateCrawled</th>\n",
       "      <th>Price</th>\n",
       "      <th>VehicleType</th>\n",
       "      <th>RegistrationYear</th>\n",
       "      <th>Gearbox</th>\n",
       "      <th>Power</th>\n",
       "      <th>Model</th>\n",
       "      <th>Mileage</th>\n",
       "      <th>RegistrationMonth</th>\n",
       "      <th>FuelType</th>\n",
       "      <th>Brand</th>\n",
       "      <th>NotRepaired</th>\n",
       "      <th>DateCreated</th>\n",
       "      <th>NumberOfPictures</th>\n",
       "      <th>PostalCode</th>\n",
       "      <th>LastSeen</th>\n",
       "    </tr>\n",
       "  </thead>\n",
       "  <tbody>\n",
       "  </tbody>\n",
       "</table>\n",
       "</div>"
      ],
      "text/plain": [
       "Empty DataFrame\n",
       "Columns: [DateCrawled, Price, VehicleType, RegistrationYear, Gearbox, Power, Model, Mileage, RegistrationMonth, FuelType, Brand, NotRepaired, DateCreated, NumberOfPictures, PostalCode, LastSeen]\n",
       "Index: []"
      ]
     },
     "execution_count": 9,
     "metadata": {},
     "output_type": "execute_result"
    }
   ],
   "source": [
    "\n",
    "data.loc[ data['VehicleType'] == 'other', 'VehicleType'] = 'unknown'\n",
    "data[data['VehicleType']=='other']\n",
    "data.loc[ data['FuelType'] == 'other', 'FuelType'] = 'unknown'\n",
    "data[data['FuelType']=='other']"
   ]
  },
  {
   "cell_type": "code",
   "execution_count": 10,
   "id": "2ae31cfa",
   "metadata": {
    "ExecuteTime": {
     "end_time": "2022-09-16T15:46:29.662648Z",
     "start_time": "2022-09-16T15:46:29.333912Z"
    }
   },
   "outputs": [
    {
     "data": {
      "text/html": [
       "<div>\n",
       "<style scoped>\n",
       "    .dataframe tbody tr th:only-of-type {\n",
       "        vertical-align: middle;\n",
       "    }\n",
       "\n",
       "    .dataframe tbody tr th {\n",
       "        vertical-align: top;\n",
       "    }\n",
       "\n",
       "    .dataframe thead th {\n",
       "        text-align: right;\n",
       "    }\n",
       "</style>\n",
       "<table border=\"1\" class=\"dataframe\">\n",
       "  <thead>\n",
       "    <tr style=\"text-align: right;\">\n",
       "      <th></th>\n",
       "      <th>DateCrawled</th>\n",
       "      <th>Price</th>\n",
       "      <th>VehicleType</th>\n",
       "      <th>RegistrationYear</th>\n",
       "      <th>Gearbox</th>\n",
       "      <th>Power</th>\n",
       "      <th>Model</th>\n",
       "      <th>Mileage</th>\n",
       "      <th>RegistrationMonth</th>\n",
       "      <th>FuelType</th>\n",
       "      <th>Brand</th>\n",
       "      <th>NotRepaired</th>\n",
       "      <th>DateCreated</th>\n",
       "      <th>NumberOfPictures</th>\n",
       "      <th>PostalCode</th>\n",
       "      <th>LastSeen</th>\n",
       "    </tr>\n",
       "  </thead>\n",
       "  <tbody>\n",
       "  </tbody>\n",
       "</table>\n",
       "</div>"
      ],
      "text/plain": [
       "Empty DataFrame\n",
       "Columns: [DateCrawled, Price, VehicleType, RegistrationYear, Gearbox, Power, Model, Mileage, RegistrationMonth, FuelType, Brand, NotRepaired, DateCreated, NumberOfPictures, PostalCode, LastSeen]\n",
       "Index: []"
      ]
     },
     "execution_count": 10,
     "metadata": {},
     "output_type": "execute_result"
    }
   ],
   "source": [
    "median_month = data[data['RegistrationMonth']!=0]['RegistrationMonth'].median()\n",
    "data.loc[ data['RegistrationMonth'] == 0 , 'RegistrationMonth'] = median_month\n",
    "data[data['RegistrationMonth']==0]"
   ]
  },
  {
   "cell_type": "code",
   "execution_count": 11,
   "id": "151b2cac",
   "metadata": {
    "ExecuteTime": {
     "end_time": "2022-09-16T15:46:31.708256Z",
     "start_time": "2022-09-16T15:46:29.672613Z"
    }
   },
   "outputs": [
    {
     "name": "stdout",
     "output_type": "stream",
     "text": [
      "<class 'pandas.core.frame.DataFrame'>\n",
      "Int64Index: 343597 entries, 0 to 354368\n",
      "Data columns (total 15 columns):\n",
      " #   Column             Non-Null Count   Dtype \n",
      "---  ------             --------------   ----- \n",
      " 0   DateCrawled        343597 non-null  object\n",
      " 1   Price              343597 non-null  int64 \n",
      " 2   VehicleType        343597 non-null  object\n",
      " 3   RegistrationYear   343597 non-null  int64 \n",
      " 4   Gearbox            343597 non-null  object\n",
      " 5   Power              343597 non-null  int64 \n",
      " 6   Model              343597 non-null  object\n",
      " 7   Mileage            343597 non-null  int64 \n",
      " 8   RegistrationMonth  343597 non-null  int64 \n",
      " 9   FuelType           343597 non-null  object\n",
      " 10  Brand              343597 non-null  object\n",
      " 11  NotRepaired        343597 non-null  object\n",
      " 12  DateCreated        343597 non-null  object\n",
      " 13  PostalCode         343597 non-null  int64 \n",
      " 14  LastSeen           343597 non-null  object\n",
      "dtypes: int64(6), object(9)\n",
      "memory usage: 41.9+ MB\n"
     ]
    }
   ],
   "source": [
    "data.drop(\"NumberOfPictures\", axis=1, inplace=True)\n",
    "data.info()"
   ]
  },
  {
   "cell_type": "markdown",
   "id": "1b8deb11",
   "metadata": {},
   "source": [
    "zoom into: RegistrationYear, Power, Brand"
   ]
  },
  {
   "cell_type": "code",
   "execution_count": 12,
   "id": "bd79a0d0",
   "metadata": {
    "ExecuteTime": {
     "end_time": "2022-09-16T15:46:31.787047Z",
     "start_time": "2022-09-16T15:46:31.718225Z"
    }
   },
   "outputs": [
    {
     "data": {
      "text/plain": [
       "Int64Index([1000, 1001, 1039, 1111, 1234, 1255, 1300, 1400, 1500, 1600,\n",
       "            ...\n",
       "            7000, 7100, 7800, 8000, 8200, 8500, 8888, 9000, 9450, 9999],\n",
       "           dtype='int64', length=140)"
      ]
     },
     "execution_count": 12,
     "metadata": {},
     "output_type": "execute_result"
    }
   ],
   "source": [
    "data['RegistrationYear'].value_counts().index.sort_values()\n"
   ]
  },
  {
   "cell_type": "markdown",
   "id": "9c2d6858",
   "metadata": {},
   "source": [
    "we have years in the future and distant past, so i'll just set these years to median of the column"
   ]
  },
  {
   "cell_type": "code",
   "execution_count": 13,
   "id": "89b97c2b",
   "metadata": {
    "ExecuteTime": {
     "end_time": "2022-09-16T15:46:32.135118Z",
     "start_time": "2022-09-16T15:46:31.803000Z"
    }
   },
   "outputs": [],
   "source": [
    "median_year = data[(1970<data['RegistrationYear']) & (data['RegistrationYear']<2023)]['RegistrationYear'].median()"
   ]
  },
  {
   "cell_type": "code",
   "execution_count": 14,
   "id": "16c57ce6",
   "metadata": {
    "ExecuteTime": {
     "end_time": "2022-09-16T15:46:32.247833Z",
     "start_time": "2022-09-16T15:46:32.147100Z"
    }
   },
   "outputs": [
    {
     "data": {
      "text/html": [
       "<div>\n",
       "<style scoped>\n",
       "    .dataframe tbody tr th:only-of-type {\n",
       "        vertical-align: middle;\n",
       "    }\n",
       "\n",
       "    .dataframe tbody tr th {\n",
       "        vertical-align: top;\n",
       "    }\n",
       "\n",
       "    .dataframe thead th {\n",
       "        text-align: right;\n",
       "    }\n",
       "</style>\n",
       "<table border=\"1\" class=\"dataframe\">\n",
       "  <thead>\n",
       "    <tr style=\"text-align: right;\">\n",
       "      <th></th>\n",
       "      <th>DateCrawled</th>\n",
       "      <th>Price</th>\n",
       "      <th>VehicleType</th>\n",
       "      <th>RegistrationYear</th>\n",
       "      <th>Gearbox</th>\n",
       "      <th>Power</th>\n",
       "      <th>Model</th>\n",
       "      <th>Mileage</th>\n",
       "      <th>RegistrationMonth</th>\n",
       "      <th>FuelType</th>\n",
       "      <th>Brand</th>\n",
       "      <th>NotRepaired</th>\n",
       "      <th>DateCreated</th>\n",
       "      <th>PostalCode</th>\n",
       "      <th>LastSeen</th>\n",
       "    </tr>\n",
       "  </thead>\n",
       "  <tbody>\n",
       "  </tbody>\n",
       "</table>\n",
       "</div>"
      ],
      "text/plain": [
       "Empty DataFrame\n",
       "Columns: [DateCrawled, Price, VehicleType, RegistrationYear, Gearbox, Power, Model, Mileage, RegistrationMonth, FuelType, Brand, NotRepaired, DateCreated, PostalCode, LastSeen]\n",
       "Index: []"
      ]
     },
     "execution_count": 14,
     "metadata": {},
     "output_type": "execute_result"
    }
   ],
   "source": [
    "data.loc[ (2022<data['RegistrationYear']) | (1970> data['RegistrationYear']), 'RegistrationYear'] = median_year\n",
    "data[data['RegistrationYear']==2023]"
   ]
  },
  {
   "cell_type": "markdown",
   "id": "9d453834",
   "metadata": {},
   "source": [
    "onto horse power values.\n",
    "according to:\n",
    "https://www.autolist.com/guides/average-car-horsepower\n",
    "we shouldn't expect to see horsepower values below 100 and above 500"
   ]
  },
  {
   "cell_type": "code",
   "execution_count": 15,
   "id": "88542ef6",
   "metadata": {
    "ExecuteTime": {
     "end_time": "2022-09-16T15:46:32.355589Z",
     "start_time": "2022-09-16T15:46:32.262788Z"
    }
   },
   "outputs": [
    {
     "data": {
      "text/plain": [
       "0       36360\n",
       "75      23319\n",
       "60      15465\n",
       "150     14170\n",
       "101     12960\n",
       "        ...  \n",
       "519         1\n",
       "2461        1\n",
       "6006        1\n",
       "5815        1\n",
       "1241        1\n",
       "Name: Power, Length: 701, dtype: int64"
      ]
     },
     "execution_count": 15,
     "metadata": {},
     "output_type": "execute_result"
    }
   ],
   "source": [
    "data['Power'].value_counts()"
   ]
  },
  {
   "cell_type": "markdown",
   "id": "2ab7da1c",
   "metadata": {
    "ExecuteTime": {
     "end_time": "2022-09-15T14:46:55.422620Z",
     "start_time": "2022-09-15T14:46:55.387716Z"
    }
   },
   "source": [
    "adjusting to median values:"
   ]
  },
  {
   "cell_type": "code",
   "execution_count": 16,
   "id": "5caf90c4",
   "metadata": {
    "ExecuteTime": {
     "end_time": "2022-09-16T15:46:32.593715Z",
     "start_time": "2022-09-16T15:46:32.368311Z"
    }
   },
   "outputs": [],
   "source": [
    "median_power = data[(100<data['Power']) & (data['Power']<500)]['Power'].median()"
   ]
  },
  {
   "cell_type": "code",
   "execution_count": 17,
   "id": "af6cbb87",
   "metadata": {
    "ExecuteTime": {
     "end_time": "2022-09-16T15:46:32.656539Z",
     "start_time": "2022-09-16T15:46:32.604677Z"
    }
   },
   "outputs": [],
   "source": [
    "data.loc[ (500<data['Power']) | (100> data['Power']), 'Power'] = median_power"
   ]
  },
  {
   "cell_type": "code",
   "execution_count": 18,
   "id": "c81a36df",
   "metadata": {
    "ExecuteTime": {
     "end_time": "2022-09-16T15:46:32.766783Z",
     "start_time": "2022-09-16T15:46:32.667511Z"
    }
   },
   "outputs": [
    {
     "data": {
      "text/html": [
       "<div>\n",
       "<style scoped>\n",
       "    .dataframe tbody tr th:only-of-type {\n",
       "        vertical-align: middle;\n",
       "    }\n",
       "\n",
       "    .dataframe tbody tr th {\n",
       "        vertical-align: top;\n",
       "    }\n",
       "\n",
       "    .dataframe thead th {\n",
       "        text-align: right;\n",
       "    }\n",
       "</style>\n",
       "<table border=\"1\" class=\"dataframe\">\n",
       "  <thead>\n",
       "    <tr style=\"text-align: right;\">\n",
       "      <th></th>\n",
       "      <th>DateCrawled</th>\n",
       "      <th>Price</th>\n",
       "      <th>VehicleType</th>\n",
       "      <th>RegistrationYear</th>\n",
       "      <th>Gearbox</th>\n",
       "      <th>Power</th>\n",
       "      <th>Model</th>\n",
       "      <th>Mileage</th>\n",
       "      <th>RegistrationMonth</th>\n",
       "      <th>FuelType</th>\n",
       "      <th>Brand</th>\n",
       "      <th>NotRepaired</th>\n",
       "      <th>DateCreated</th>\n",
       "      <th>PostalCode</th>\n",
       "      <th>LastSeen</th>\n",
       "    </tr>\n",
       "  </thead>\n",
       "  <tbody>\n",
       "  </tbody>\n",
       "</table>\n",
       "</div>"
      ],
      "text/plain": [
       "Empty DataFrame\n",
       "Columns: [DateCrawled, Price, VehicleType, RegistrationYear, Gearbox, Power, Model, Mileage, RegistrationMonth, FuelType, Brand, NotRepaired, DateCreated, PostalCode, LastSeen]\n",
       "Index: []"
      ]
     },
     "execution_count": 18,
     "metadata": {},
     "output_type": "execute_result"
    }
   ],
   "source": [
    "data[data['Power']==2023]"
   ]
  },
  {
   "cell_type": "markdown",
   "id": "4e672a1d",
   "metadata": {},
   "source": [
    "onto brand values:"
   ]
  },
  {
   "cell_type": "code",
   "execution_count": 19,
   "id": "daac54e3",
   "metadata": {
    "ExecuteTime": {
     "end_time": "2022-09-16T15:46:33.002193Z",
     "start_time": "2022-09-16T15:46:32.781731Z"
    }
   },
   "outputs": [
    {
     "data": {
      "text/plain": [
       "volkswagen        74413\n",
       "opel              38530\n",
       "bmw               35809\n",
       "mercedes_benz     31359\n",
       "audi              28574\n",
       "ford              24457\n",
       "renault           17389\n",
       "peugeot           10781\n",
       "fiat               9332\n",
       "seat               6718\n",
       "mazda              5465\n",
       "skoda              5435\n",
       "smart              5171\n",
       "citroen            5029\n",
       "nissan             4807\n",
       "toyota             4536\n",
       "hyundai            3533\n",
       "mini               3165\n",
       "volvo              3122\n",
       "mitsubishi         2927\n",
       "sonstige_autos     2847\n",
       "honda              2715\n",
       "kia                2407\n",
       "suzuki             2273\n",
       "alfa_romeo         2234\n",
       "chevrolet          1704\n",
       "chrysler           1368\n",
       "dacia               890\n",
       "daihatsu            775\n",
       "subaru              735\n",
       "porsche             734\n",
       "jeep                658\n",
       "land_rover          534\n",
       "daewoo              533\n",
       "saab                515\n",
       "trabant             498\n",
       "jaguar              493\n",
       "rover               462\n",
       "lancia              457\n",
       "lada                213\n",
       "Name: Brand, dtype: int64"
      ]
     },
     "execution_count": 19,
     "metadata": {},
     "output_type": "execute_result"
    }
   ],
   "source": [
    "data['Brand'].value_counts()"
   ]
  },
  {
   "cell_type": "markdown",
   "id": "d7a52996",
   "metadata": {},
   "source": [
    "nothing seems out of the ordinary here."
   ]
  },
  {
   "cell_type": "markdown",
   "id": "eb631155",
   "metadata": {},
   "source": [
    "**Take note of the encoding of categorical features for simple algorithms. LightGBM and CatBoost have their implementation, but XGBoost requires OHE.**"
   ]
  },
  {
   "cell_type": "code",
   "execution_count": 20,
   "id": "243d7ea2",
   "metadata": {
    "ExecuteTime": {
     "end_time": "2022-09-16T15:46:35.881373Z",
     "start_time": "2022-09-16T15:46:33.022133Z"
    }
   },
   "outputs": [
    {
     "data": {
      "text/html": [
       "<div>\n",
       "<style scoped>\n",
       "    .dataframe tbody tr th:only-of-type {\n",
       "        vertical-align: middle;\n",
       "    }\n",
       "\n",
       "    .dataframe tbody tr th {\n",
       "        vertical-align: top;\n",
       "    }\n",
       "\n",
       "    .dataframe thead th {\n",
       "        text-align: right;\n",
       "    }\n",
       "</style>\n",
       "<table border=\"1\" class=\"dataframe\">\n",
       "  <thead>\n",
       "    <tr style=\"text-align: right;\">\n",
       "      <th></th>\n",
       "      <th>Price</th>\n",
       "      <th>RegistrationYear</th>\n",
       "      <th>Power</th>\n",
       "      <th>Mileage</th>\n",
       "      <th>RegistrationMonth</th>\n",
       "      <th>PostalCode</th>\n",
       "      <th>VehicleType_convertible</th>\n",
       "      <th>VehicleType_coupe</th>\n",
       "      <th>VehicleType_sedan</th>\n",
       "      <th>VehicleType_small</th>\n",
       "      <th>...</th>\n",
       "      <th>Brand_smart</th>\n",
       "      <th>Brand_sonstige_autos</th>\n",
       "      <th>Brand_subaru</th>\n",
       "      <th>Brand_suzuki</th>\n",
       "      <th>Brand_toyota</th>\n",
       "      <th>Brand_trabant</th>\n",
       "      <th>Brand_volkswagen</th>\n",
       "      <th>Brand_volvo</th>\n",
       "      <th>NotRepaired_unknown</th>\n",
       "      <th>NotRepaired_yes</th>\n",
       "    </tr>\n",
       "  </thead>\n",
       "  <tbody>\n",
       "    <tr>\n",
       "      <th>0</th>\n",
       "      <td>480</td>\n",
       "      <td>1993</td>\n",
       "      <td>140</td>\n",
       "      <td>150000</td>\n",
       "      <td>6</td>\n",
       "      <td>70435</td>\n",
       "      <td>0</td>\n",
       "      <td>0</td>\n",
       "      <td>0</td>\n",
       "      <td>0</td>\n",
       "      <td>...</td>\n",
       "      <td>0</td>\n",
       "      <td>0</td>\n",
       "      <td>0</td>\n",
       "      <td>0</td>\n",
       "      <td>0</td>\n",
       "      <td>0</td>\n",
       "      <td>1</td>\n",
       "      <td>0</td>\n",
       "      <td>1</td>\n",
       "      <td>0</td>\n",
       "    </tr>\n",
       "    <tr>\n",
       "      <th>1</th>\n",
       "      <td>18300</td>\n",
       "      <td>2011</td>\n",
       "      <td>190</td>\n",
       "      <td>125000</td>\n",
       "      <td>5</td>\n",
       "      <td>66954</td>\n",
       "      <td>0</td>\n",
       "      <td>1</td>\n",
       "      <td>0</td>\n",
       "      <td>0</td>\n",
       "      <td>...</td>\n",
       "      <td>0</td>\n",
       "      <td>0</td>\n",
       "      <td>0</td>\n",
       "      <td>0</td>\n",
       "      <td>0</td>\n",
       "      <td>0</td>\n",
       "      <td>0</td>\n",
       "      <td>0</td>\n",
       "      <td>0</td>\n",
       "      <td>1</td>\n",
       "    </tr>\n",
       "    <tr>\n",
       "      <th>2</th>\n",
       "      <td>9800</td>\n",
       "      <td>2004</td>\n",
       "      <td>163</td>\n",
       "      <td>125000</td>\n",
       "      <td>8</td>\n",
       "      <td>90480</td>\n",
       "      <td>0</td>\n",
       "      <td>0</td>\n",
       "      <td>0</td>\n",
       "      <td>0</td>\n",
       "      <td>...</td>\n",
       "      <td>0</td>\n",
       "      <td>0</td>\n",
       "      <td>0</td>\n",
       "      <td>0</td>\n",
       "      <td>0</td>\n",
       "      <td>0</td>\n",
       "      <td>0</td>\n",
       "      <td>0</td>\n",
       "      <td>1</td>\n",
       "      <td>0</td>\n",
       "    </tr>\n",
       "    <tr>\n",
       "      <th>3</th>\n",
       "      <td>1500</td>\n",
       "      <td>2001</td>\n",
       "      <td>140</td>\n",
       "      <td>150000</td>\n",
       "      <td>6</td>\n",
       "      <td>91074</td>\n",
       "      <td>0</td>\n",
       "      <td>0</td>\n",
       "      <td>0</td>\n",
       "      <td>1</td>\n",
       "      <td>...</td>\n",
       "      <td>0</td>\n",
       "      <td>0</td>\n",
       "      <td>0</td>\n",
       "      <td>0</td>\n",
       "      <td>0</td>\n",
       "      <td>0</td>\n",
       "      <td>1</td>\n",
       "      <td>0</td>\n",
       "      <td>0</td>\n",
       "      <td>0</td>\n",
       "    </tr>\n",
       "    <tr>\n",
       "      <th>4</th>\n",
       "      <td>3600</td>\n",
       "      <td>2008</td>\n",
       "      <td>140</td>\n",
       "      <td>90000</td>\n",
       "      <td>7</td>\n",
       "      <td>60437</td>\n",
       "      <td>0</td>\n",
       "      <td>0</td>\n",
       "      <td>0</td>\n",
       "      <td>1</td>\n",
       "      <td>...</td>\n",
       "      <td>0</td>\n",
       "      <td>0</td>\n",
       "      <td>0</td>\n",
       "      <td>0</td>\n",
       "      <td>0</td>\n",
       "      <td>0</td>\n",
       "      <td>0</td>\n",
       "      <td>0</td>\n",
       "      <td>0</td>\n",
       "      <td>0</td>\n",
       "    </tr>\n",
       "  </tbody>\n",
       "</table>\n",
       "<p>5 rows × 312 columns</p>\n",
       "</div>"
      ],
      "text/plain": [
       "   Price  RegistrationYear  Power  Mileage  RegistrationMonth  PostalCode  \\\n",
       "0    480              1993    140   150000                  6       70435   \n",
       "1  18300              2011    190   125000                  5       66954   \n",
       "2   9800              2004    163   125000                  8       90480   \n",
       "3   1500              2001    140   150000                  6       91074   \n",
       "4   3600              2008    140    90000                  7       60437   \n",
       "\n",
       "   VehicleType_convertible  VehicleType_coupe  VehicleType_sedan  \\\n",
       "0                        0                  0                  0   \n",
       "1                        0                  1                  0   \n",
       "2                        0                  0                  0   \n",
       "3                        0                  0                  0   \n",
       "4                        0                  0                  0   \n",
       "\n",
       "   VehicleType_small  ...  Brand_smart  Brand_sonstige_autos  Brand_subaru  \\\n",
       "0                  0  ...            0                     0             0   \n",
       "1                  0  ...            0                     0             0   \n",
       "2                  0  ...            0                     0             0   \n",
       "3                  1  ...            0                     0             0   \n",
       "4                  1  ...            0                     0             0   \n",
       "\n",
       "   Brand_suzuki  Brand_toyota  Brand_trabant  Brand_volkswagen  Brand_volvo  \\\n",
       "0             0             0              0                 1            0   \n",
       "1             0             0              0                 0            0   \n",
       "2             0             0              0                 0            0   \n",
       "3             0             0              0                 1            0   \n",
       "4             0             0              0                 0            0   \n",
       "\n",
       "   NotRepaired_unknown  NotRepaired_yes  \n",
       "0                    1                0  \n",
       "1                    0                1  \n",
       "2                    1                0  \n",
       "3                    0                0  \n",
       "4                    0                0  \n",
       "\n",
       "[5 rows x 312 columns]"
      ]
     },
     "execution_count": 20,
     "metadata": {},
     "output_type": "execute_result"
    }
   ],
   "source": [
    "data_ohe = pd.get_dummies(data.drop(columns=['DateCrawled','DateCreated','LastSeen']), drop_first=True)\n",
    "data_ohe.head()"
   ]
  },
  {
   "cell_type": "markdown",
   "id": "6b6c84cf",
   "metadata": {},
   "source": [
    "# Train different models with various hyperparameters (You should make at least two different models, but more is better. Remember, various implementations of gradient boosting don't count as different models.) The main point of this step is to compare gradient boosting methods with random forest, decision tree, and linear regression."
   ]
  },
  {
   "cell_type": "markdown",
   "id": "f013d911",
   "metadata": {},
   "source": [
    "On your own, work with the LightGBM library and use its tools to build gradient boosting models.\n",
    "\n",
    "ideally, your project should include linear regression for a sanity check, a tree-based algorithm with hyperparameter tuning (preferably, random forrest), LightGBM with hyperparameter tuning (try a couple of sets), and CatBoost and XGBoost with hyperparameter tuning (optional).\n",
    "\n",
    "use RMSE metric\n",
    "\n",
    "You can use a special command to find the cell code runtime in Jupyter Notebook. Find that command.\n",
    "\n",
    "Since the training of a gradient boosting model can take a long time, change only a few model parameters."
   ]
  },
  {
   "cell_type": "code",
   "execution_count": 69,
   "id": "c543c823",
   "metadata": {
    "ExecuteTime": {
     "end_time": "2022-09-17T08:48:03.045540Z",
     "start_time": "2022-09-17T08:48:02.762396Z"
    }
   },
   "outputs": [],
   "source": [
    "performance = {}"
   ]
  },
  {
   "cell_type": "markdown",
   "id": "95508245",
   "metadata": {},
   "source": [
    "## Linear regression sanity check\n"
   ]
  },
  {
   "cell_type": "code",
   "execution_count": 47,
   "id": "34671be0",
   "metadata": {
    "ExecuteTime": {
     "end_time": "2022-09-16T15:54:12.619715Z",
     "start_time": "2022-09-16T15:54:09.016140Z"
    }
   },
   "outputs": [],
   "source": [
    "x_ohe = data_ohe.drop(['Price'], axis=1)\n",
    "y_ohe = data_ohe['Price']\n",
    "\n",
    "x_train_ohe, x_valid_ohe, y_train_ohe, y_valid_ohe = train_test_split(\n",
    "    x_ohe, y_ohe, test_size=0.4, random_state=12345)\n",
    "x_valid_ohe, x_test_ohe, y_valid_ohe, y_test_ohe = train_test_split(x_valid_ohe, y_valid_ohe, test_size=0.5,\n",
    "                                                                           random_state=12345)"
   ]
  },
  {
   "cell_type": "code",
   "execution_count": 48,
   "id": "60fd8e9f",
   "metadata": {
    "ExecuteTime": {
     "end_time": "2022-09-16T15:54:12.651639Z",
     "start_time": "2022-09-16T15:54:12.632693Z"
    }
   },
   "outputs": [],
   "source": [
    "#x = data_ohe.drop('Price',axis=1) #,'DateCrawled','LastSeen','DateCreated']\n",
    "#y = data_ohe.Price\n",
    "# train and test split\n",
    "#x_train,x_test,y_train,y_test = train_test_split(x,y,test_size=0.25,random_state=12345)\n"
   ]
  },
  {
   "cell_type": "code",
   "execution_count": 49,
   "id": "0a857e64",
   "metadata": {
    "ExecuteTime": {
     "end_time": "2022-09-16T15:54:21.995475Z",
     "start_time": "2022-09-16T15:54:12.663609Z"
    }
   },
   "outputs": [
    {
     "name": "stdout",
     "output_type": "stream",
     "text": [
      "CPU times: total: 14.6 s\n",
      "Wall time: 9.3 s\n"
     ]
    },
    {
     "data": {
      "text/plain": [
       "LinearRegression()"
      ]
     },
     "execution_count": 49,
     "metadata": {},
     "output_type": "execute_result"
    }
   ],
   "source": [
    "%%time\n",
    "model = LinearRegression()# initialize model constructor\n",
    "model.fit(x_train_ohe, y_train_ohe) # train model on training set\n"
   ]
  },
  {
   "cell_type": "code",
   "execution_count": 50,
   "id": "79d3cc19",
   "metadata": {
    "ExecuteTime": {
     "end_time": "2022-09-16T15:54:22.390417Z",
     "start_time": "2022-09-16T15:54:22.001460Z"
    }
   },
   "outputs": [
    {
     "name": "stdout",
     "output_type": "stream",
     "text": [
      "RMSE of the linear regression model on the validation set: 2645.0101071597705\n",
      "CPU times: total: 406 ms\n",
      "Wall time: 371 ms\n"
     ]
    }
   ],
   "source": [
    "%%time\n",
    "pred_valid = model.predict(x_valid_ohe)# get model predictions on validation set\n",
    "result = mean_squared_error(y_valid_ohe,pred_valid)**0.5 # calculate RMSE on validation set\n",
    "print(\"RMSE of the linear regression model on the validation set:\", result)"
   ]
  },
  {
   "cell_type": "markdown",
   "id": "dd14e810",
   "metadata": {},
   "source": [
    "RMSE more than 2600, CPU time almost 15 secs."
   ]
  },
  {
   "cell_type": "code",
   "execution_count": 70,
   "id": "d3a8c3e7",
   "metadata": {
    "ExecuteTime": {
     "end_time": "2022-09-17T08:49:36.408574Z",
     "start_time": "2022-09-17T08:49:36.345737Z"
    }
   },
   "outputs": [],
   "source": [
    "performance.update({'LinearRegression':(2600, 15)})"
   ]
  },
  {
   "cell_type": "markdown",
   "id": "7ba7aab1",
   "metadata": {},
   "source": [
    "## Random forest with hyperparameter tuning"
   ]
  },
  {
   "cell_type": "code",
   "execution_count": 51,
   "id": "2bffe232",
   "metadata": {
    "ExecuteTime": {
     "end_time": "2022-09-16T15:54:41.959441Z",
     "start_time": "2022-09-16T15:54:22.397400Z"
    }
   },
   "outputs": [
    {
     "name": "stdout",
     "output_type": "stream",
     "text": [
      "CPU times: total: 19.1 s\n",
      "Wall time: 19.5 s\n"
     ]
    },
    {
     "data": {
      "text/plain": [
       "RandomForestRegressor(max_depth=6, n_estimators=3,\n",
       "                      random_state=RandomState(MT19937) at 0x28C9C760E40)"
      ]
     },
     "execution_count": 51,
     "metadata": {},
     "output_type": "execute_result"
    }
   ],
   "source": [
    "%%time\n",
    "state = np.random.RandomState(12345)\n",
    "model = RandomForestRegressor(n_estimators = 3, max_depth = 6, random_state= state)\n",
    "\n",
    "model.fit(x_train_ohe, y_train_ohe) # train model on training set\n"
   ]
  },
  {
   "cell_type": "code",
   "execution_count": 52,
   "id": "f4b466d2",
   "metadata": {
    "ExecuteTime": {
     "end_time": "2022-09-16T15:54:42.656157Z",
     "start_time": "2022-09-16T15:54:41.971409Z"
    }
   },
   "outputs": [
    {
     "name": "stdout",
     "output_type": "stream",
     "text": [
      "RMSE of the Random Forest Regression model on the validation set: 2376.6849304883785\n",
      "CPU times: total: 609 ms\n",
      "Wall time: 649 ms\n"
     ]
    }
   ],
   "source": [
    "%%time\n",
    "pred_valid = model.predict(x_valid_ohe)# get model predictions on validation set\n",
    "result = mean_squared_error(y_valid_ohe,pred_valid)**0.5 # calculate RMSE on validation set\n",
    "print(\"RMSE of the Random Forest Regression model on the validation set:\", result)"
   ]
  },
  {
   "cell_type": "code",
   "execution_count": 53,
   "id": "233ecc48",
   "metadata": {
    "ExecuteTime": {
     "end_time": "2022-09-16T15:55:20.170696Z",
     "start_time": "2022-09-16T15:54:42.670121Z"
    }
   },
   "outputs": [
    {
     "name": "stdout",
     "output_type": "stream",
     "text": [
      "CPU times: total: 34.6 s\n",
      "Wall time: 37.5 s\n"
     ]
    },
    {
     "data": {
      "text/plain": [
       "RandomForestRegressor(max_depth=6, n_estimators=5,\n",
       "                      random_state=RandomState(MT19937) at 0x28C95BCB040)"
      ]
     },
     "execution_count": 53,
     "metadata": {},
     "output_type": "execute_result"
    }
   ],
   "source": [
    "%%time\n",
    "state = np.random.RandomState(12345)\n",
    "model = RandomForestRegressor(n_estimators = 5, max_depth = 6, random_state= state)\n",
    "\n",
    "model.fit(x_train_ohe, y_train_ohe) # train model on training set\n"
   ]
  },
  {
   "cell_type": "code",
   "execution_count": 54,
   "id": "92b96fce",
   "metadata": {
    "ExecuteTime": {
     "end_time": "2022-09-16T15:55:20.976966Z",
     "start_time": "2022-09-16T15:55:20.180665Z"
    }
   },
   "outputs": [
    {
     "name": "stdout",
     "output_type": "stream",
     "text": [
      "RMSE of the Random Forest Regression model on the validation set: 2377.914419028111\n",
      "CPU times: total: 578 ms\n",
      "Wall time: 769 ms\n"
     ]
    }
   ],
   "source": [
    "%%time\n",
    "pred_valid = model.predict(x_valid_ohe)# get model predictions on validation set\n",
    "result = mean_squared_error(y_valid_ohe,pred_valid)**0.5 # calculate RMSE on validation set\n",
    "print(\"RMSE of the Random Forest Regression model on the validation set:\", result)"
   ]
  },
  {
   "cell_type": "markdown",
   "id": "ae16e2cd",
   "metadata": {},
   "source": [
    "forest regressor did a little better with smaller RMSE of 2377, in twice the amount of time elapsed than with the linear regression."
   ]
  },
  {
   "cell_type": "code",
   "execution_count": 71,
   "id": "d681856d",
   "metadata": {
    "ExecuteTime": {
     "end_time": "2022-09-17T08:50:19.564510Z",
     "start_time": "2022-09-17T08:50:19.526083Z"
    }
   },
   "outputs": [],
   "source": [
    "performance.update({'RandomForestRegressor':(2377, 34)})"
   ]
  },
  {
   "cell_type": "markdown",
   "id": "34dc85f2",
   "metadata": {},
   "source": [
    "## LightGBM with hyperparameter tuning"
   ]
  },
  {
   "cell_type": "code",
   "execution_count": 55,
   "id": "498b00b6",
   "metadata": {
    "ExecuteTime": {
     "end_time": "2022-09-16T15:55:21.022852Z",
     "start_time": "2022-09-16T15:55:20.986940Z"
    }
   },
   "outputs": [],
   "source": [
    "categorical_feats = ['VehicleType', 'Gearbox', 'Model', 'FuelType', 'Brand', 'NotRepaired']\n"
   ]
  },
  {
   "cell_type": "code",
   "execution_count": 56,
   "id": "94f46079",
   "metadata": {
    "ExecuteTime": {
     "end_time": "2022-09-16T15:55:22.368284Z",
     "start_time": "2022-09-16T15:55:21.034814Z"
    }
   },
   "outputs": [],
   "source": [
    "x = data.drop(['Price', 'DateCrawled', 'DateCreated','LastSeen'], axis=1)\n",
    "y = data['Price']\n",
    "\n",
    "for c in categorical_feats:\n",
    "    x[c] = x[c].astype('category')\n",
    "\n",
    "x_train, x_valid, y_train, y_valid = train_test_split(\n",
    "    x, y, test_size=0.4, random_state=12345)\n",
    "x_valid, x_test, y_valid, y_test = train_test_split(x_valid, y_valid, test_size=0.5,\n",
    "                                                                           random_state=12345)"
   ]
  },
  {
   "cell_type": "code",
   "execution_count": 58,
   "id": "5d5231ed",
   "metadata": {
    "ExecuteTime": {
     "end_time": "2022-09-16T15:55:25.445062Z",
     "start_time": "2022-09-16T15:55:22.446011Z"
    },
    "scrolled": true
   },
   "outputs": [
    {
     "name": "stdout",
     "output_type": "stream",
     "text": [
      "[LightGBM] [Debug] Dataset::GetMultiBinFromSparseFeatures: sparse rate 0.735598\n",
      "[LightGBM] [Debug] Dataset::GetMultiBinFromAllFeatures: sparse rate 0.142133\n",
      "[LightGBM] [Debug] init for col-wise cost 0.018312 seconds, init for row-wise cost 0.047392 seconds\n",
      "[LightGBM] [Warning] Auto-choosing row-wise multi-threading, the overhead of testing was 0.037892 seconds.\n",
      "You can set `force_row_wise=true` to remove the overhead.\n",
      "And if memory is not enough, you can set `force_col_wise=true`.\n",
      "[LightGBM] [Debug] Using Dense Multi-Val Bin\n",
      "[LightGBM] [Info] Total Bins 838\n",
      "[LightGBM] [Info] Number of data points in the train set: 206158, number of used features: 11\n"
     ]
    },
    {
     "name": "stderr",
     "output_type": "stream",
     "text": [
      "C:\\ProgramData\\Anaconda3\\lib\\site-packages\\lightgbm\\basic.py:1780: UserWarning: Overriding the parameters from Reference Dataset.\n",
      "  _log_warning('Overriding the parameters from Reference Dataset.')\n",
      "C:\\ProgramData\\Anaconda3\\lib\\site-packages\\lightgbm\\basic.py:1513: UserWarning: categorical_column in param dict is overridden.\n",
      "  _log_warning(f'{cat_alias} in param dict is overridden.')\n"
     ]
    },
    {
     "name": "stdout",
     "output_type": "stream",
     "text": [
      "[LightGBM] [Info] Start training from score 4558.047342\n",
      "[LightGBM] [Debug] Trained a tree with leaves = 30 and depth = 6\n",
      "[1]\tvalid_0's rmse: 3076.56\n",
      "[LightGBM] [Debug] Trained a tree with leaves = 30 and depth = 8\n",
      "[2]\tvalid_0's rmse: 2466.15\n",
      "[LightGBM] [Debug] Trained a tree with leaves = 30 and depth = 9\n",
      "[3]\tvalid_0's rmse: 2161.49\n",
      "[LightGBM] [Debug] Trained a tree with leaves = 30 and depth = 9\n",
      "[4]\tvalid_0's rmse: 2018.24\n",
      "[LightGBM] [Debug] Trained a tree with leaves = 30 and depth = 7\n",
      "[5]\tvalid_0's rmse: 1953.49\n",
      "[LightGBM] [Debug] Trained a tree with leaves = 30 and depth = 10\n",
      "[6]\tvalid_0's rmse: 1913.52\n",
      "[LightGBM] [Debug] Trained a tree with leaves = 30 and depth = 10\n",
      "[7]\tvalid_0's rmse: 1887.25\n",
      "[LightGBM] [Debug] Trained a tree with leaves = 30 and depth = 9\n",
      "[8]\tvalid_0's rmse: 1866.98\n",
      "[LightGBM] [Debug] Trained a tree with leaves = 30 and depth = 10\n",
      "[9]\tvalid_0's rmse: 1856.02\n",
      "[LightGBM] [Debug] Trained a tree with leaves = 30 and depth = 12\n",
      "[10]\tvalid_0's rmse: 1848.04\n",
      "[LightGBM] [Debug] Trained a tree with leaves = 30 and depth = 10\n",
      "[11]\tvalid_0's rmse: 1836.55\n",
      "[LightGBM] [Debug] Trained a tree with leaves = 30 and depth = 12\n",
      "[12]\tvalid_0's rmse: 1820.05\n",
      "[LightGBM] [Debug] Trained a tree with leaves = 30 and depth = 12\n",
      "[13]\tvalid_0's rmse: 1814.87\n",
      "[LightGBM] [Debug] Trained a tree with leaves = 30 and depth = 9\n",
      "[14]\tvalid_0's rmse: 1807.87\n",
      "[LightGBM] [Debug] Trained a tree with leaves = 30 and depth = 9\n",
      "[15]\tvalid_0's rmse: 1799.78\n",
      "[LightGBM] [Debug] Trained a tree with leaves = 30 and depth = 8\n",
      "[16]\tvalid_0's rmse: 1790.49\n",
      "[LightGBM] [Debug] Trained a tree with leaves = 30 and depth = 7\n",
      "[17]\tvalid_0's rmse: 1783.47\n",
      "[LightGBM] [Debug] Trained a tree with leaves = 30 and depth = 10\n",
      "[18]\tvalid_0's rmse: 1777.92\n",
      "[LightGBM] [Debug] Trained a tree with leaves = 30 and depth = 10\n",
      "[19]\tvalid_0's rmse: 1773.17\n",
      "[LightGBM] [Debug] Trained a tree with leaves = 30 and depth = 8\n",
      "[20]\tvalid_0's rmse: 1769.47\n",
      "[LightGBM] [Debug] Trained a tree with leaves = 30 and depth = 11\n",
      "[21]\tvalid_0's rmse: 1765.05\n",
      "[LightGBM] [Debug] Trained a tree with leaves = 30 and depth = 11\n",
      "[22]\tvalid_0's rmse: 1761.24\n",
      "[LightGBM] [Debug] Trained a tree with leaves = 30 and depth = 8\n",
      "[23]\tvalid_0's rmse: 1760.47\n",
      "[LightGBM] [Debug] Trained a tree with leaves = 30 and depth = 10\n",
      "[24]\tvalid_0's rmse: 1753.07\n",
      "[LightGBM] [Debug] Trained a tree with leaves = 30 and depth = 12\n",
      "[25]\tvalid_0's rmse: 1752.79\n",
      "[LightGBM] [Debug] Trained a tree with leaves = 30 and depth = 10\n",
      "[26]\tvalid_0's rmse: 1752.06\n",
      "[LightGBM] [Debug] Trained a tree with leaves = 30 and depth = 11\n",
      "[27]\tvalid_0's rmse: 1751\n",
      "[LightGBM] [Debug] Trained a tree with leaves = 30 and depth = 9\n",
      "[28]\tvalid_0's rmse: 1749.71\n",
      "[LightGBM] [Debug] Trained a tree with leaves = 30 and depth = 8\n",
      "[29]\tvalid_0's rmse: 1747.4\n",
      "[LightGBM] [Debug] Trained a tree with leaves = 30 and depth = 9\n",
      "[30]\tvalid_0's rmse: 1746.01\n",
      "CPU times: total: 6.56 s\n",
      "Wall time: 2.96 s\n"
     ]
    }
   ],
   "source": [
    "%%time\n",
    "\n",
    "params = {\n",
    "    'task': 'train', \n",
    "    'boosting': 'gbdt',\n",
    "    'objective': 'regression',\n",
    "    'num_leaves': 30,\n",
    "    'learning_rate': 0.5,\n",
    "    'metric': {'rmse'},\n",
    "    'verbose': 2\n",
    "}\n",
    "\n",
    "# loading data\n",
    "lgb_train = lgb.Dataset(x_train, y_train)\n",
    "lgb_eval = lgb.Dataset(x_valid, y_valid, reference=lgb_train)\n",
    "cat_feature = []\n",
    "model = lgb.train(params,\n",
    "                  num_boost_round = 30,\n",
    "                 train_set=lgb_train,\n",
    "                 valid_sets=lgb_eval)"
   ]
  },
  {
   "cell_type": "code",
   "execution_count": 59,
   "id": "7124ff71",
   "metadata": {
    "ExecuteTime": {
     "end_time": "2022-09-16T15:55:27.263780Z",
     "start_time": "2022-09-16T15:55:25.452043Z"
    },
    "scrolled": true
   },
   "outputs": [
    {
     "name": "stdout",
     "output_type": "stream",
     "text": [
      "[LightGBM] [Debug] Dataset::GetMultiBinFromSparseFeatures: sparse rate 0.735598\n",
      "[LightGBM] [Debug] Dataset::GetMultiBinFromAllFeatures: sparse rate 0.142133\n",
      "[LightGBM] [Debug] init for col-wise cost 0.010312 seconds, init for row-wise cost 0.021359 seconds\n",
      "[LightGBM] [Warning] Auto-choosing row-wise multi-threading, the overhead of testing was 0.020338 seconds.\n",
      "You can set `force_row_wise=true` to remove the overhead.\n",
      "And if memory is not enough, you can set `force_col_wise=true`.\n",
      "[LightGBM] [Debug] Using Dense Multi-Val Bin\n",
      "[LightGBM] [Info] Total Bins 838\n",
      "[LightGBM] [Info] Number of data points in the train set: 206158, number of used features: 11\n",
      "[LightGBM] [Info] Start training from score 4558.047342\n",
      "[LightGBM] [Debug] Trained a tree with leaves = 50 and depth = 8\n",
      "[1]\tvalid_0's rmse: 3003.54\n",
      "[LightGBM] [Debug] Trained a tree with leaves = 50 and depth = 10"
     ]
    },
    {
     "name": "stderr",
     "output_type": "stream",
     "text": [
      "C:\\ProgramData\\Anaconda3\\lib\\site-packages\\lightgbm\\basic.py:1780: UserWarning: Overriding the parameters from Reference Dataset.\n",
      "  _log_warning('Overriding the parameters from Reference Dataset.')\n",
      "C:\\ProgramData\\Anaconda3\\lib\\site-packages\\lightgbm\\basic.py:1513: UserWarning: categorical_column in param dict is overridden.\n",
      "  _log_warning(f'{cat_alias} in param dict is overridden.')\n"
     ]
    },
    {
     "name": "stdout",
     "output_type": "stream",
     "text": [
      "\n",
      "[2]\tvalid_0's rmse: 2361.13\n",
      "[LightGBM] [Debug] Trained a tree with leaves = 50 and depth = 10\n",
      "[3]\tvalid_0's rmse: 2078.13\n",
      "[LightGBM] [Debug] Trained a tree with leaves = 50 and depth = 9\n",
      "[4]\tvalid_0's rmse: 1940.68\n",
      "[LightGBM] [Debug] Trained a tree with leaves = 50 and depth = 11\n",
      "[5]\tvalid_0's rmse: 1878.82\n",
      "[LightGBM] [Debug] Trained a tree with leaves = 50 and depth = 12\n",
      "[6]\tvalid_0's rmse: 1844.9\n",
      "[LightGBM] [Debug] Trained a tree with leaves = 50 and depth = 13\n",
      "[7]\tvalid_0's rmse: 1817.44\n",
      "[LightGBM] [Debug] Trained a tree with leaves = 50 and depth = 10\n",
      "[8]\tvalid_0's rmse: 1809.43\n",
      "[LightGBM] [Debug] Trained a tree with leaves = 50 and depth = 10\n",
      "[9]\tvalid_0's rmse: 1797.69\n",
      "[LightGBM] [Debug] Trained a tree with leaves = 50 and depth = 14\n",
      "[10]\tvalid_0's rmse: 1781.68\n",
      "[LightGBM] [Debug] Trained a tree with leaves = 50 and depth = 15\n",
      "[11]\tvalid_0's rmse: 1770.86\n",
      "[LightGBM] [Debug] Trained a tree with leaves = 50 and depth = 11\n",
      "[12]\tvalid_0's rmse: 1762.53\n",
      "[LightGBM] [Debug] Trained a tree with leaves = 50 and depth = 15\n",
      "[13]\tvalid_0's rmse: 1756.23\n",
      "[LightGBM] [Debug] Trained a tree with leaves = 50 and depth = 14\n",
      "[14]\tvalid_0's rmse: 1747.91\n",
      "[LightGBM] [Debug] Trained a tree with leaves = 50 and depth = 11\n",
      "[15]\tvalid_0's rmse: 1741.22\n",
      "[LightGBM] [Debug] Trained a tree with leaves = 50 and depth = 10\n",
      "[16]\tvalid_0's rmse: 1738.15\n",
      "[LightGBM] [Debug] Trained a tree with leaves = 50 and depth = 11\n",
      "[17]\tvalid_0's rmse: 1732.76\n",
      "[LightGBM] [Debug] Trained a tree with leaves = 50 and depth = 13\n",
      "[18]\tvalid_0's rmse: 1731.59\n",
      "[LightGBM] [Debug] Trained a tree with leaves = 50 and depth = 13\n",
      "[19]\tvalid_0's rmse: 1728.6\n",
      "[LightGBM] [Debug] Trained a tree with leaves = 50 and depth = 12\n",
      "[20]\tvalid_0's rmse: 1726.63\n",
      "[LightGBM] [Debug] Trained a tree with leaves = 50 and depth = 13\n",
      "[21]\tvalid_0's rmse: 1721.87\n",
      "[LightGBM] [Debug] Trained a tree with leaves = 50 and depth = 11\n",
      "[22]\tvalid_0's rmse: 1719.86\n",
      "[LightGBM] [Debug] Trained a tree with leaves = 50 and depth = 15\n",
      "[23]\tvalid_0's rmse: 1719.61\n",
      "[LightGBM] [Debug] Trained a tree with leaves = 50 and depth = 11\n",
      "[24]\tvalid_0's rmse: 1718.95\n",
      "[LightGBM] [Debug] Trained a tree with leaves = 50 and depth = 13\n",
      "[25]\tvalid_0's rmse: 1717.63\n",
      "[LightGBM] [Debug] Trained a tree with leaves = 50 and depth = 13\n",
      "[26]\tvalid_0's rmse: 1717.74\n",
      "[LightGBM] [Debug] Trained a tree with leaves = 50 and depth = 10\n",
      "[27]\tvalid_0's rmse: 1714.57\n",
      "[LightGBM] [Debug] Trained a tree with leaves = 50 and depth = 16\n",
      "[28]\tvalid_0's rmse: 1715.01\n",
      "[LightGBM] [Debug] Trained a tree with leaves = 50 and depth = 16\n",
      "[29]\tvalid_0's rmse: 1714.45\n",
      "[LightGBM] [Debug] Trained a tree with leaves = 50 and depth = 11\n",
      "[30]\tvalid_0's rmse: 1713.92\n",
      "CPU times: total: 5.02 s\n",
      "Wall time: 1.78 s\n"
     ]
    }
   ],
   "source": [
    "%%time\n",
    "\n",
    "params = {\n",
    "    'task': 'train', \n",
    "    'boosting': 'gbdt',\n",
    "    'objective': 'regression',\n",
    "    'num_leaves': 50,\n",
    "    'learning_rate': 0.5,\n",
    "    'metric': {'rmse'},\n",
    "    'verbose': 2\n",
    "}\n",
    "\n",
    "# laoding data\n",
    "lgb_train = lgb.Dataset(x_train, y_train)\n",
    "lgb_eval = lgb.Dataset(x_valid, y_valid, reference=lgb_train)\n",
    "cat_feature = []\n",
    "model = lgb.train(params,\n",
    "                  num_boost_round = 30,\n",
    "                 train_set=lgb_train,\n",
    "                 valid_sets=lgb_eval)"
   ]
  },
  {
   "cell_type": "markdown",
   "id": "fc1db643",
   "metadata": {},
   "source": [
    "best variant here did a much better job than the random forest and the linear regression in less time than it took the linear regression.\n",
    "\n",
    "RMSE 1713, 5 seconds"
   ]
  },
  {
   "cell_type": "code",
   "execution_count": 72,
   "id": "d813e267",
   "metadata": {
    "ExecuteTime": {
     "end_time": "2022-09-17T08:51:25.331583Z",
     "start_time": "2022-09-17T08:51:25.292688Z"
    }
   },
   "outputs": [],
   "source": [
    "performance.update({'LightGBM':(1713,5)})"
   ]
  },
  {
   "cell_type": "markdown",
   "id": "666357f5",
   "metadata": {},
   "source": [
    "## CatBoost  with hyperparameter tuning (OPTIONAL)"
   ]
  },
  {
   "cell_type": "code",
   "execution_count": 60,
   "id": "9554e03c",
   "metadata": {
    "ExecuteTime": {
     "end_time": "2022-09-16T15:55:31.359241Z",
     "start_time": "2022-09-16T15:55:27.273754Z"
    }
   },
   "outputs": [
    {
     "name": "stdout",
     "output_type": "stream",
     "text": [
      "Learning rate set to 0.5\n",
      "0:\tlearn: 3273.7112412\ttotal: 163ms\tremaining: 4.72s\n",
      "1:\tlearn: 2705.2370078\ttotal: 336ms\tremaining: 4.7s\n",
      "2:\tlearn: 2431.2654953\ttotal: 504ms\tremaining: 4.54s\n",
      "3:\tlearn: 2301.3579909\ttotal: 627ms\tremaining: 4.08s\n",
      "4:\tlearn: 2198.8572833\ttotal: 783ms\tremaining: 3.91s\n",
      "5:\tlearn: 2162.3149926\ttotal: 898ms\tremaining: 3.59s\n",
      "6:\tlearn: 2121.9302949\ttotal: 1.02s\tremaining: 3.35s\n",
      "7:\tlearn: 2097.6948152\ttotal: 1.13s\tremaining: 3.09s\n",
      "8:\tlearn: 2065.3591454\ttotal: 1.23s\tremaining: 2.88s\n",
      "9:\tlearn: 2051.4020057\ttotal: 1.35s\tremaining: 2.7s\n",
      "10:\tlearn: 2034.1161336\ttotal: 1.47s\tremaining: 2.54s\n",
      "11:\tlearn: 2018.0989407\ttotal: 1.58s\tremaining: 2.37s\n",
      "12:\tlearn: 2002.8008893\ttotal: 1.68s\tremaining: 2.2s\n",
      "13:\tlearn: 1990.8537319\ttotal: 1.79s\tremaining: 2.04s\n",
      "14:\tlearn: 1976.5421574\ttotal: 1.89s\tremaining: 1.89s\n",
      "15:\tlearn: 1966.8609757\ttotal: 2s\tremaining: 1.75s\n",
      "16:\tlearn: 1958.8810717\ttotal: 2.11s\tremaining: 1.61s\n",
      "17:\tlearn: 1952.4933673\ttotal: 2.21s\tremaining: 1.48s\n",
      "18:\tlearn: 1940.3950484\ttotal: 2.32s\tremaining: 1.35s\n",
      "19:\tlearn: 1930.8318074\ttotal: 2.44s\tremaining: 1.22s\n",
      "20:\tlearn: 1924.4128203\ttotal: 2.55s\tremaining: 1.09s\n",
      "21:\tlearn: 1917.4136271\ttotal: 2.65s\tremaining: 964ms\n",
      "22:\tlearn: 1909.1008173\ttotal: 2.76s\tremaining: 840ms\n",
      "23:\tlearn: 1902.5881928\ttotal: 2.86s\tremaining: 716ms\n",
      "24:\tlearn: 1896.1067537\ttotal: 2.98s\tremaining: 595ms\n",
      "25:\tlearn: 1892.5431408\ttotal: 3.08s\tremaining: 473ms\n",
      "26:\tlearn: 1883.5924219\ttotal: 3.17s\tremaining: 352ms\n",
      "27:\tlearn: 1877.8474900\ttotal: 3.28s\tremaining: 234ms\n",
      "28:\tlearn: 1874.2835519\ttotal: 3.38s\tremaining: 117ms\n",
      "29:\tlearn: 1870.9355341\ttotal: 3.49s\tremaining: 0us\n",
      "CPU times: total: 11.5 s\n",
      "Wall time: 4.07 s\n"
     ]
    },
    {
     "data": {
      "text/plain": [
       "<catboost.core.CatBoostRegressor at 0x28c95bcc250>"
      ]
     },
     "execution_count": 60,
     "metadata": {},
     "output_type": "execute_result"
    }
   ],
   "source": [
    "%%time\n",
    "model = CatBoostRegressor(iterations=30,\n",
    "                          cat_features=[0,2,4,7,8,9],\n",
    "                         verbose=1,\n",
    "                         eval_metric='RMSE')\n",
    "model.fit(x_train, y_train)\n"
   ]
  },
  {
   "cell_type": "code",
   "execution_count": 61,
   "id": "545602db",
   "metadata": {
    "ExecuteTime": {
     "end_time": "2022-09-16T15:55:31.453986Z",
     "start_time": "2022-09-16T15:55:31.362232Z"
    }
   },
   "outputs": [
    {
     "name": "stdout",
     "output_type": "stream",
     "text": [
      " RMSE: 1854.7588810304496\n",
      "CPU times: total: 141 ms\n",
      "Wall time: 81.8 ms\n"
     ]
    }
   ],
   "source": [
    "%%time\n",
    "y_pred = model.predict(x_valid)\n",
    "print(f' RMSE: {mean_squared_error(y_pred, y_valid)**0.5}')"
   ]
  },
  {
   "cell_type": "markdown",
   "id": "49475719",
   "metadata": {},
   "source": [
    "changing learning rate using eta parameter"
   ]
  },
  {
   "cell_type": "code",
   "execution_count": 62,
   "id": "50b089fc",
   "metadata": {
    "ExecuteTime": {
     "end_time": "2022-09-16T15:55:37.107360Z",
     "start_time": "2022-09-16T15:55:31.455981Z"
    }
   },
   "outputs": [
    {
     "name": "stdout",
     "output_type": "stream",
     "text": [
      "0:\tlearn: 2762.0787599\ttotal: 297ms\tremaining: 8.62s\n",
      "1:\tlearn: 2401.2937015\ttotal: 643ms\tremaining: 8.99s\n",
      "2:\tlearn: 2303.7100748\ttotal: 869ms\tremaining: 7.82s\n",
      "3:\tlearn: 2221.0720848\ttotal: 1.04s\tremaining: 6.77s\n",
      "4:\tlearn: 2156.0754498\ttotal: 1.23s\tremaining: 6.14s\n",
      "5:\tlearn: 2123.9469292\ttotal: 1.4s\tremaining: 5.61s\n",
      "6:\tlearn: 2086.3059834\ttotal: 1.65s\tremaining: 5.41s\n",
      "7:\tlearn: 2063.8567842\ttotal: 1.82s\tremaining: 5.01s\n",
      "8:\tlearn: 2040.6228895\ttotal: 2.02s\tremaining: 4.71s\n",
      "9:\tlearn: 2020.5893853\ttotal: 2.19s\tremaining: 4.38s\n",
      "10:\tlearn: 2007.3190057\ttotal: 2.37s\tremaining: 4.09s\n",
      "11:\tlearn: 1994.8797844\ttotal: 2.54s\tremaining: 3.81s\n",
      "12:\tlearn: 1984.2115939\ttotal: 2.73s\tremaining: 3.57s\n",
      "13:\tlearn: 1971.0832672\ttotal: 2.89s\tremaining: 3.3s\n",
      "14:\tlearn: 1962.8592767\ttotal: 3.04s\tremaining: 3.04s\n",
      "15:\tlearn: 1949.5437112\ttotal: 3.19s\tremaining: 2.79s\n",
      "16:\tlearn: 1944.4676988\ttotal: 3.36s\tremaining: 2.57s\n",
      "17:\tlearn: 1935.3057750\ttotal: 3.49s\tremaining: 2.33s\n",
      "18:\tlearn: 1926.4781637\ttotal: 3.63s\tremaining: 2.1s\n",
      "19:\tlearn: 1916.7346500\ttotal: 3.76s\tremaining: 1.88s\n",
      "20:\tlearn: 1909.5300647\ttotal: 3.89s\tremaining: 1.67s\n",
      "21:\tlearn: 1902.6623441\ttotal: 4.01s\tremaining: 1.46s\n",
      "22:\tlearn: 1897.7830441\ttotal: 4.13s\tremaining: 1.26s\n",
      "23:\tlearn: 1893.9240035\ttotal: 4.25s\tremaining: 1.06s\n",
      "24:\tlearn: 1879.2235171\ttotal: 4.38s\tremaining: 875ms\n",
      "25:\tlearn: 1873.0741851\ttotal: 4.48s\tremaining: 690ms\n",
      "26:\tlearn: 1869.7556711\ttotal: 4.62s\tremaining: 513ms\n",
      "27:\tlearn: 1866.6021826\ttotal: 4.71s\tremaining: 337ms\n",
      "28:\tlearn: 1863.5298631\ttotal: 4.82s\tremaining: 166ms\n",
      "29:\tlearn: 1858.4004981\ttotal: 4.95s\tremaining: 0us\n",
      "CPU times: total: 14 s\n",
      "Wall time: 5.63 s\n"
     ]
    },
    {
     "data": {
      "text/plain": [
       "<catboost.core.CatBoostRegressor at 0x28c95bd39d0>"
      ]
     },
     "execution_count": 62,
     "metadata": {},
     "output_type": "execute_result"
    }
   ],
   "source": [
    "%%time\n",
    "model = CatBoostRegressor(iterations=30,\n",
    "                          eta = 0.9,\n",
    "                          cat_features=[0,2,4,7,8,9],\n",
    "                         verbose=1,\n",
    "                         eval_metric='RMSE')\n",
    "model.fit(x_train, y_train)\n"
   ]
  },
  {
   "cell_type": "code",
   "execution_count": 63,
   "id": "0f33abf1",
   "metadata": {
    "ExecuteTime": {
     "end_time": "2022-09-16T15:55:37.248485Z",
     "start_time": "2022-09-16T15:55:37.114341Z"
    }
   },
   "outputs": [
    {
     "name": "stdout",
     "output_type": "stream",
     "text": [
      " RMSE: 1853.7536239412495\n",
      "CPU times: total: 125 ms\n",
      "Wall time: 114 ms\n"
     ]
    }
   ],
   "source": [
    "%%time\n",
    "y_pred = model.predict(x_valid)\n",
    "print(f' RMSE: {mean_squared_error(y_pred, y_valid)**0.5}')"
   ]
  },
  {
   "cell_type": "markdown",
   "id": "55f3d8cd",
   "metadata": {},
   "source": [
    "14s by cpu times and 1853 RMSE, if we increase the iterations we probably could do even better."
   ]
  },
  {
   "cell_type": "code",
   "execution_count": 73,
   "id": "03d72e5f",
   "metadata": {
    "ExecuteTime": {
     "end_time": "2022-09-17T08:52:05.435229Z",
     "start_time": "2022-09-17T08:52:05.407304Z"
    }
   },
   "outputs": [],
   "source": [
    "performance.update({'CatBoost':(1853, 14)})"
   ]
  },
  {
   "cell_type": "markdown",
   "id": "9b54de25",
   "metadata": {},
   "source": [
    "## XGBoost with hyperparameter tuning (OPTIONAL)"
   ]
  },
  {
   "cell_type": "code",
   "execution_count": 65,
   "id": "1eac83ba",
   "metadata": {
    "ExecuteTime": {
     "end_time": "2022-09-16T15:55:50.919369Z",
     "start_time": "2022-09-16T15:55:37.269427Z"
    }
   },
   "outputs": [
    {
     "name": "stdout",
     "output_type": "stream",
     "text": [
      "CPU times: total: 45.4 s\n",
      "Wall time: 13.6 s\n"
     ]
    },
    {
     "data": {
      "text/plain": [
       "XGBRegressor(base_score=0.5, booster='gbtree', callbacks=None,\n",
       "             colsample_bylevel=1, colsample_bynode=1, colsample_bytree=1,\n",
       "             early_stopping_rounds=None, enable_categorical=False,\n",
       "             eval_metric=None, gamma=0, gpu_id=-1, grow_policy='depthwise',\n",
       "             importance_type=None, interaction_constraints='',\n",
       "             learning_rate=0.300000012, max_bin=256, max_cat_to_onehot=4,\n",
       "             max_delta_step=0, max_depth=5, max_leaves=0, min_child_weight=1,\n",
       "             missing=nan, monotone_constraints='()', n_estimators=10, n_jobs=0,\n",
       "             num_parallel_tree=1, predictor='auto', random_state=0, reg_alpha=0,\n",
       "             reg_lambda=1, ...)"
      ]
     },
     "execution_count": 65,
     "metadata": {},
     "output_type": "execute_result"
    }
   ],
   "source": [
    "%%time\n",
    "model = XGBRegressor(n_estimators=10, max_depth=5)\n",
    "model.fit(x_train_ohe, y_train_ohe)\n"
   ]
  },
  {
   "cell_type": "code",
   "execution_count": 66,
   "id": "e275e19b",
   "metadata": {
    "ExecuteTime": {
     "end_time": "2022-09-16T15:55:51.663289Z",
     "start_time": "2022-09-16T15:55:50.922362Z"
    }
   },
   "outputs": [
    {
     "name": "stdout",
     "output_type": "stream",
     "text": [
      " RMSE: 2073.425461176509\n",
      "CPU times: total: 2.03 s\n",
      "Wall time: 720 ms\n"
     ]
    }
   ],
   "source": [
    "%%time\n",
    "y_pred = model.predict(x_valid_ohe)\n",
    "print(f' RMSE: {mean_squared_error(y_pred, y_valid_ohe)**0.5}')"
   ]
  },
  {
   "cell_type": "markdown",
   "id": "30cbed75",
   "metadata": {},
   "source": [
    "changing the n_est and max_depth"
   ]
  },
  {
   "cell_type": "code",
   "execution_count": 67,
   "id": "ec55113e",
   "metadata": {
    "ExecuteTime": {
     "end_time": "2022-09-16T15:56:18.133342Z",
     "start_time": "2022-09-16T15:55:51.667279Z"
    }
   },
   "outputs": [
    {
     "name": "stdout",
     "output_type": "stream",
     "text": [
      "CPU times: total: 1min 34s\n",
      "Wall time: 26.5 s\n"
     ]
    },
    {
     "data": {
      "text/plain": [
       "XGBRegressor(base_score=0.5, booster='gbtree', callbacks=None,\n",
       "             colsample_bylevel=1, colsample_bynode=1, colsample_bytree=1,\n",
       "             early_stopping_rounds=None, enable_categorical=False,\n",
       "             eval_metric=None, gamma=0, gpu_id=-1, grow_policy='depthwise',\n",
       "             importance_type=None, interaction_constraints='',\n",
       "             learning_rate=0.300000012, max_bin=256, max_cat_to_onehot=4,\n",
       "             max_delta_step=0, max_depth=6, max_leaves=0, min_child_weight=1,\n",
       "             missing=nan, monotone_constraints='()', n_estimators=20, n_jobs=0,\n",
       "             num_parallel_tree=1, predictor='auto', random_state=0, reg_alpha=0,\n",
       "             reg_lambda=1, ...)"
      ]
     },
     "execution_count": 67,
     "metadata": {},
     "output_type": "execute_result"
    }
   ],
   "source": [
    "%%time\n",
    "model = XGBRegressor(n_estimators=20, max_depth=6)\n",
    "model.fit(x_train_ohe, y_train_ohe)\n"
   ]
  },
  {
   "cell_type": "code",
   "execution_count": 68,
   "id": "efa36f99",
   "metadata": {
    "ExecuteTime": {
     "end_time": "2022-09-16T15:56:19.006006Z",
     "start_time": "2022-09-16T15:56:18.137332Z"
    }
   },
   "outputs": [
    {
     "name": "stdout",
     "output_type": "stream",
     "text": [
      " RMSE: 1878.7599920329649\n",
      "CPU times: total: 2.34 s\n",
      "Wall time: 852 ms\n"
     ]
    }
   ],
   "source": [
    "%%time\n",
    "y_pred = model.predict(x_valid_ohe)\n",
    "print(f' RMSE: {mean_squared_error(y_pred, y_valid_ohe)**0.5}')"
   ]
  },
  {
   "cell_type": "markdown",
   "id": "b515c5bc",
   "metadata": {},
   "source": [
    "pretty slow with about the same error as what we've seen the other boosters do."
   ]
  },
  {
   "cell_type": "code",
   "execution_count": 74,
   "id": "4e8630dc",
   "metadata": {
    "ExecuteTime": {
     "end_time": "2022-09-17T08:52:49.326859Z",
     "start_time": "2022-09-17T08:52:49.303921Z"
    }
   },
   "outputs": [],
   "source": [
    "performance.update({'XGBoost':(1878, 94)})"
   ]
  },
  {
   "cell_type": "markdown",
   "id": "21067931",
   "metadata": {},
   "source": [
    "# Conclusion\n",
    "\n",
    "let's compare the performances:"
   ]
  },
  {
   "cell_type": "code",
   "execution_count": 75,
   "id": "e4ab4ec9",
   "metadata": {
    "ExecuteTime": {
     "end_time": "2022-09-17T08:53:36.006243Z",
     "start_time": "2022-09-17T08:53:35.971337Z"
    }
   },
   "outputs": [
    {
     "name": "stdout",
     "output_type": "stream",
     "text": [
      "{'LinearRegression': (2600, 15), 'RandomForestRegressor': (2377, 34), 'LightGBM': (1713, 5), 'CatBoost': (1853, 14), 'XGBoost': (1878, 94)}\n"
     ]
    }
   ],
   "source": [
    "print(performance)"
   ]
  },
  {
   "cell_type": "markdown",
   "id": "b17ed646",
   "metadata": {},
   "source": [
    "looks like LightGBM did the best job in the least amount of time,\n",
    "\n",
    "runner-up is CatBoost with a pretty good error with a little more time on the clock.\n",
    "\n",
    "i'd definitely use LightGBM if i had the choice\n",
    "\n",
    "let's see how LightGBM does on the test set:"
   ]
  },
  {
   "cell_type": "code",
   "execution_count": 76,
   "id": "a66641a0",
   "metadata": {
    "ExecuteTime": {
     "end_time": "2022-09-17T08:57:38.333272Z",
     "start_time": "2022-09-17T08:57:32.335024Z"
    }
   },
   "outputs": [
    {
     "name": "stdout",
     "output_type": "stream",
     "text": [
      "[LightGBM] [Debug] Dataset::GetMultiBinFromSparseFeatures: sparse rate 0.735598\n",
      "[LightGBM] [Debug] Dataset::GetMultiBinFromAllFeatures: sparse rate 0.142133\n",
      "[LightGBM] [Debug] init for col-wise cost 0.022150 seconds, init for row-wise cost 0.043565 seconds\n",
      "[LightGBM] [Warning] Auto-choosing row-wise multi-threading, the overhead of testing was 0.043997 seconds.\n",
      "You can set `force_row_wise=true` to remove the overhead.\n",
      "And if memory is not enough, you can set `force_col_wise=true`.\n",
      "[LightGBM] [Debug] Using Dense Multi-Val Bin\n",
      "[LightGBM] [Info] Total Bins 838\n",
      "[LightGBM] [Info] Number of data points in the train set: 206158, number of used features: 11\n"
     ]
    },
    {
     "name": "stderr",
     "output_type": "stream",
     "text": [
      "C:\\ProgramData\\Anaconda3\\lib\\site-packages\\lightgbm\\basic.py:1780: UserWarning: Overriding the parameters from Reference Dataset.\n",
      "  _log_warning('Overriding the parameters from Reference Dataset.')\n",
      "C:\\ProgramData\\Anaconda3\\lib\\site-packages\\lightgbm\\basic.py:1513: UserWarning: categorical_column in param dict is overridden.\n",
      "  _log_warning(f'{cat_alias} in param dict is overridden.')\n"
     ]
    },
    {
     "name": "stdout",
     "output_type": "stream",
     "text": [
      "[LightGBM] [Info] Start training from score 4558.047342\n",
      "[LightGBM] [Debug] Trained a tree with leaves = 50 and depth = 8\n",
      "[1]\tvalid_0's rmse: 3031.7\n",
      "[LightGBM] [Debug] Trained a tree with leaves = 50 and depth = 10\n",
      "[2]\tvalid_0's rmse: 2388.66\n",
      "[LightGBM] [Debug] Trained a tree with leaves = 50 and depth = 10\n",
      "[3]\tvalid_0's rmse: 2103.91\n",
      "[LightGBM] [Debug] Trained a tree with leaves = 50 and depth = 9\n",
      "[4]\tvalid_0's rmse: 1966.65\n",
      "[LightGBM] [Debug] Trained a tree with leaves = 50 and depth = 11\n",
      "[5]\tvalid_0's rmse: 1906.09\n",
      "[LightGBM] [Debug] Trained a tree with leaves = 50 and depth = 12\n",
      "[6]\tvalid_0's rmse: 1870.15\n",
      "[LightGBM] [Debug] Trained a tree with leaves = 50 and depth = 13\n",
      "[7]\tvalid_0's rmse: 1840.93\n",
      "[LightGBM] [Debug] Trained a tree with leaves = 50 and depth = 10\n",
      "[8]\tvalid_0's rmse: 1829.45\n",
      "[LightGBM] [Debug] Trained a tree with leaves = 50 and depth = 10\n",
      "[9]\tvalid_0's rmse: 1818.84\n",
      "[LightGBM] [Debug] Trained a tree with leaves = 50 and depth = 14\n",
      "[10]\tvalid_0's rmse: 1803.77\n",
      "[LightGBM] [Debug] Trained a tree with leaves = 50 and depth = 15\n",
      "[11]\tvalid_0's rmse: 1791.96\n",
      "[LightGBM] [Debug] Trained a tree with leaves = 50 and depth = 11\n",
      "[12]\tvalid_0's rmse: 1783.6\n",
      "[LightGBM] [Debug] Trained a tree with leaves = 50 and depth = 15\n",
      "[13]\tvalid_0's rmse: 1777.11\n",
      "[LightGBM] [Debug] Trained a tree with leaves = 50 and depth = 14\n",
      "[14]\tvalid_0's rmse: 1771.27\n",
      "[LightGBM] [Debug] Trained a tree with leaves = 50 and depth = 11\n",
      "[15]\tvalid_0's rmse: 1766.62\n",
      "[LightGBM] [Debug] Trained a tree with leaves = 50 and depth = 10\n",
      "[16]\tvalid_0's rmse: 1762.9\n",
      "[LightGBM] [Debug] Trained a tree with leaves = 50 and depth = 11\n",
      "[17]\tvalid_0's rmse: 1758.93\n",
      "[LightGBM] [Debug] Trained a tree with leaves = 50 and depth = 13\n",
      "[18]\tvalid_0's rmse: 1757.66\n",
      "[LightGBM] [Debug] Trained a tree with leaves = 50 and depth = 13\n",
      "[19]\tvalid_0's rmse: 1754.52\n",
      "[LightGBM] [Debug] Trained a tree with leaves = 50 and depth = 12\n",
      "[20]\tvalid_0's rmse: 1749.97\n",
      "[LightGBM] [Debug] Trained a tree with leaves = 50 and depth = 13\n",
      "[21]\tvalid_0's rmse: 1746.01\n",
      "[LightGBM] [Debug] Trained a tree with leaves = 50 and depth = 11\n",
      "[22]\tvalid_0's rmse: 1743.94\n",
      "[LightGBM] [Debug] Trained a tree with leaves = 50 and depth = 15\n",
      "[23]\tvalid_0's rmse: 1742.99\n",
      "[LightGBM] [Debug] Trained a tree with leaves = 50 and depth = 11\n",
      "[24]\tvalid_0's rmse: 1742.02\n",
      "[LightGBM] [Debug] Trained a tree with leaves = 50 and depth = 13\n",
      "[25]\tvalid_0's rmse: 1739.48\n",
      "[LightGBM] [Debug] Trained a tree with leaves = 50 and depth = 13\n",
      "[26]\tvalid_0's rmse: 1739.37\n",
      "[LightGBM] [Debug] Trained a tree with leaves = 50 and depth = 10\n",
      "[27]\tvalid_0's rmse: 1736.62\n",
      "[LightGBM] [Debug] Trained a tree with leaves = 50 and depth = 16\n",
      "[28]\tvalid_0's rmse: 1736.18\n",
      "[LightGBM] [Debug] Trained a tree with leaves = 50 and depth = 16\n",
      "[29]\tvalid_0's rmse: 1736.12\n",
      "[LightGBM] [Debug] Trained a tree with leaves = 50 and depth = 11\n",
      "[30]\tvalid_0's rmse: 1735.12\n",
      "CPU times: total: 8.92 s\n",
      "Wall time: 5.84 s\n"
     ]
    }
   ],
   "source": [
    "%%time\n",
    "\n",
    "params = {\n",
    "    'task': 'train', \n",
    "    'boosting': 'gbdt',\n",
    "    'objective': 'regression',\n",
    "    'num_leaves': 50,\n",
    "    'learning_rate': 0.5,\n",
    "    'metric': {'rmse'},\n",
    "    'verbose': 2\n",
    "}\n",
    "\n",
    "# loading data\n",
    "lgb_train = lgb.Dataset(x_train, y_train)\n",
    "lgb_eval = lgb.Dataset(x_test, y_test, reference=lgb_train)\n",
    "model = lgb.train(params,\n",
    "                  num_boost_round = 30,\n",
    "                 train_set=lgb_train,\n",
    "                 valid_sets=lgb_eval)"
   ]
  },
  {
   "cell_type": "markdown",
   "id": "7788a33a",
   "metadata": {},
   "source": [
    "so 5 seconds for an RMSE of 1735, if we tune the parameters more carefully and let it do its thing for more time, maybe we could get the RMSE a lot lower. in the end it's just a game of minimizing the loss function"
   ]
  }
 ],
 "metadata": {
  "kernelspec": {
   "display_name": "Python 3 (ipykernel)",
   "language": "python",
   "name": "python3"
  },
  "language_info": {
   "codemirror_mode": {
    "name": "ipython",
    "version": 3
   },
   "file_extension": ".py",
   "mimetype": "text/x-python",
   "name": "python",
   "nbconvert_exporter": "python",
   "pygments_lexer": "ipython3",
   "version": "3.8.8"
  },
  "toc": {
   "base_numbering": 1,
   "nav_menu": {},
   "number_sections": true,
   "sideBar": true,
   "skip_h1_title": false,
   "title_cell": "Table of Contents",
   "title_sidebar": "Contents",
   "toc_cell": false,
   "toc_position": {
    "height": "calc(100% - 180px)",
    "left": "10px",
    "top": "150px",
    "width": "309.333px"
   },
   "toc_section_display": true,
   "toc_window_display": true
  }
 },
 "nbformat": 4,
 "nbformat_minor": 5
}
